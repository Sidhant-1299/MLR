{
 "cells": [
  {
   "cell_type": "code",
   "execution_count": 44,
   "id": "74fd4313-8356-4835-befd-2aaee1aa0be9",
   "metadata": {},
   "outputs": [],
   "source": [
    "import pandas as pd\n",
    "import numpy as np"
   ]
  },
  {
   "cell_type": "code",
   "execution_count": 2,
   "id": "60721142-5ccd-485e-9980-0550df3bb2f1",
   "metadata": {},
   "outputs": [],
   "source": [
    "%config Completer.use_jedi = False"
   ]
  },
  {
   "cell_type": "code",
   "execution_count": 3,
   "id": "ab471a66-6629-4dc6-9595-626cae929802",
   "metadata": {},
   "outputs": [],
   "source": [
    "usda = pd.read_csv(\"USDA_Clean.csv\", index_col = 0)"
   ]
  },
  {
   "cell_type": "code",
   "execution_count": 4,
   "id": "a819d5ed-3378-4ad3-adfd-2044318f847a",
   "metadata": {},
   "outputs": [],
   "source": [
    "usda = usda.drop(columns = ['ID',\"Description\"])"
   ]
  },
  {
   "cell_type": "code",
   "execution_count": 10,
   "id": "4e2fe60d-212a-4258-804d-0372380a9c7b",
   "metadata": {},
   "outputs": [],
   "source": [
    "X = usda['Calories']\n",
    "Y = usda.drop(columns = ['Calories'])"
   ]
  },
  {
   "cell_type": "code",
   "execution_count": 11,
   "id": "14a051a8-8107-4dde-9448-f9dd334a606c",
   "metadata": {},
   "outputs": [
    {
     "data": {
      "text/html": [
       "<div>\n",
       "<style scoped>\n",
       "    .dataframe tbody tr th:only-of-type {\n",
       "        vertical-align: middle;\n",
       "    }\n",
       "\n",
       "    .dataframe tbody tr th {\n",
       "        vertical-align: top;\n",
       "    }\n",
       "\n",
       "    .dataframe thead th {\n",
       "        text-align: right;\n",
       "    }\n",
       "</style>\n",
       "<table border=\"1\" class=\"dataframe\">\n",
       "  <thead>\n",
       "    <tr style=\"text-align: right;\">\n",
       "      <th></th>\n",
       "      <th>Protein</th>\n",
       "      <th>TotalFat</th>\n",
       "      <th>Carbohydrate</th>\n",
       "      <th>Sodium</th>\n",
       "      <th>Cholesterol</th>\n",
       "      <th>Sugar</th>\n",
       "      <th>Calcium</th>\n",
       "      <th>Iron</th>\n",
       "      <th>Potassium</th>\n",
       "      <th>VitaminC</th>\n",
       "      <th>VitaminE</th>\n",
       "      <th>VitaminD</th>\n",
       "      <th>HighSodium</th>\n",
       "      <th>HighCals</th>\n",
       "      <th>HighSugar</th>\n",
       "      <th>HighProtein</th>\n",
       "      <th>HighFat</th>\n",
       "    </tr>\n",
       "  </thead>\n",
       "  <tbody>\n",
       "    <tr>\n",
       "      <th>1</th>\n",
       "      <td>0.85</td>\n",
       "      <td>81.11</td>\n",
       "      <td>0.06</td>\n",
       "      <td>714</td>\n",
       "      <td>215</td>\n",
       "      <td>0.06</td>\n",
       "      <td>24</td>\n",
       "      <td>0.02</td>\n",
       "      <td>24</td>\n",
       "      <td>0.0</td>\n",
       "      <td>2.32</td>\n",
       "      <td>1.5</td>\n",
       "      <td>1</td>\n",
       "      <td>1</td>\n",
       "      <td>0</td>\n",
       "      <td>0</td>\n",
       "      <td>1</td>\n",
       "    </tr>\n",
       "    <tr>\n",
       "      <th>2</th>\n",
       "      <td>0.85</td>\n",
       "      <td>81.11</td>\n",
       "      <td>0.06</td>\n",
       "      <td>827</td>\n",
       "      <td>219</td>\n",
       "      <td>0.06</td>\n",
       "      <td>24</td>\n",
       "      <td>0.16</td>\n",
       "      <td>26</td>\n",
       "      <td>0.0</td>\n",
       "      <td>2.32</td>\n",
       "      <td>1.5</td>\n",
       "      <td>1</td>\n",
       "      <td>1</td>\n",
       "      <td>0</td>\n",
       "      <td>0</td>\n",
       "      <td>1</td>\n",
       "    </tr>\n",
       "    <tr>\n",
       "      <th>3</th>\n",
       "      <td>0.28</td>\n",
       "      <td>99.48</td>\n",
       "      <td>0.00</td>\n",
       "      <td>2</td>\n",
       "      <td>256</td>\n",
       "      <td>0.00</td>\n",
       "      <td>4</td>\n",
       "      <td>0.00</td>\n",
       "      <td>5</td>\n",
       "      <td>0.0</td>\n",
       "      <td>2.80</td>\n",
       "      <td>1.8</td>\n",
       "      <td>0</td>\n",
       "      <td>1</td>\n",
       "      <td>0</td>\n",
       "      <td>0</td>\n",
       "      <td>1</td>\n",
       "    </tr>\n",
       "    <tr>\n",
       "      <th>4</th>\n",
       "      <td>21.40</td>\n",
       "      <td>28.74</td>\n",
       "      <td>2.34</td>\n",
       "      <td>1395</td>\n",
       "      <td>75</td>\n",
       "      <td>0.50</td>\n",
       "      <td>528</td>\n",
       "      <td>0.31</td>\n",
       "      <td>256</td>\n",
       "      <td>0.0</td>\n",
       "      <td>0.25</td>\n",
       "      <td>0.5</td>\n",
       "      <td>1</td>\n",
       "      <td>1</td>\n",
       "      <td>0</td>\n",
       "      <td>1</td>\n",
       "      <td>1</td>\n",
       "    </tr>\n",
       "    <tr>\n",
       "      <th>5</th>\n",
       "      <td>23.24</td>\n",
       "      <td>29.68</td>\n",
       "      <td>2.79</td>\n",
       "      <td>560</td>\n",
       "      <td>94</td>\n",
       "      <td>0.51</td>\n",
       "      <td>674</td>\n",
       "      <td>0.43</td>\n",
       "      <td>136</td>\n",
       "      <td>0.0</td>\n",
       "      <td>0.26</td>\n",
       "      <td>0.5</td>\n",
       "      <td>1</td>\n",
       "      <td>1</td>\n",
       "      <td>0</td>\n",
       "      <td>1</td>\n",
       "      <td>1</td>\n",
       "    </tr>\n",
       "    <tr>\n",
       "      <th>...</th>\n",
       "      <td>...</td>\n",
       "      <td>...</td>\n",
       "      <td>...</td>\n",
       "      <td>...</td>\n",
       "      <td>...</td>\n",
       "      <td>...</td>\n",
       "      <td>...</td>\n",
       "      <td>...</td>\n",
       "      <td>...</td>\n",
       "      <td>...</td>\n",
       "      <td>...</td>\n",
       "      <td>...</td>\n",
       "      <td>...</td>\n",
       "      <td>...</td>\n",
       "      <td>...</td>\n",
       "      <td>...</td>\n",
       "      <td>...</td>\n",
       "    </tr>\n",
       "    <tr>\n",
       "      <th>7053</th>\n",
       "      <td>16.40</td>\n",
       "      <td>0.30</td>\n",
       "      <td>0.00</td>\n",
       "      <td>58</td>\n",
       "      <td>50</td>\n",
       "      <td>0.00</td>\n",
       "      <td>18</td>\n",
       "      <td>1.50</td>\n",
       "      <td>285</td>\n",
       "      <td>0.0</td>\n",
       "      <td>1.00</td>\n",
       "      <td>0.2</td>\n",
       "      <td>0</td>\n",
       "      <td>0</td>\n",
       "      <td>0</td>\n",
       "      <td>1</td>\n",
       "      <td>0</td>\n",
       "    </tr>\n",
       "    <tr>\n",
       "      <th>7054</th>\n",
       "      <td>18.50</td>\n",
       "      <td>25.10</td>\n",
       "      <td>0.00</td>\n",
       "      <td>4450</td>\n",
       "      <td>95</td>\n",
       "      <td>0.00</td>\n",
       "      <td>66</td>\n",
       "      <td>1.40</td>\n",
       "      <td>520</td>\n",
       "      <td>0.0</td>\n",
       "      <td>2.38</td>\n",
       "      <td>25.2</td>\n",
       "      <td>1</td>\n",
       "      <td>1</td>\n",
       "      <td>0</td>\n",
       "      <td>1</td>\n",
       "      <td>1</td>\n",
       "    </tr>\n",
       "    <tr>\n",
       "      <th>7055</th>\n",
       "      <td>20.54</td>\n",
       "      <td>0.84</td>\n",
       "      <td>5.41</td>\n",
       "      <td>667</td>\n",
       "      <td>41</td>\n",
       "      <td>0.00</td>\n",
       "      <td>10</td>\n",
       "      <td>0.58</td>\n",
       "      <td>314</td>\n",
       "      <td>0.0</td>\n",
       "      <td>0.00</td>\n",
       "      <td>0.0</td>\n",
       "      <td>1</td>\n",
       "      <td>0</td>\n",
       "      <td>0</td>\n",
       "      <td>1</td>\n",
       "      <td>0</td>\n",
       "    </tr>\n",
       "    <tr>\n",
       "      <th>7056</th>\n",
       "      <td>16.10</td>\n",
       "      <td>1.40</td>\n",
       "      <td>2.00</td>\n",
       "      <td>70</td>\n",
       "      <td>50</td>\n",
       "      <td>0.00</td>\n",
       "      <td>10</td>\n",
       "      <td>3.50</td>\n",
       "      <td>382</td>\n",
       "      <td>0.0</td>\n",
       "      <td>5.00</td>\n",
       "      <td>0.0</td>\n",
       "      <td>0</td>\n",
       "      <td>0</td>\n",
       "      <td>0</td>\n",
       "      <td>1</td>\n",
       "      <td>0</td>\n",
       "    </tr>\n",
       "    <tr>\n",
       "      <th>7057</th>\n",
       "      <td>19.80</td>\n",
       "      <td>0.50</td>\n",
       "      <td>0.00</td>\n",
       "      <td>68</td>\n",
       "      <td>50</td>\n",
       "      <td>0.00</td>\n",
       "      <td>118</td>\n",
       "      <td>1.40</td>\n",
       "      <td>230</td>\n",
       "      <td>0.0</td>\n",
       "      <td>0.50</td>\n",
       "      <td>0.0</td>\n",
       "      <td>0</td>\n",
       "      <td>0</td>\n",
       "      <td>0</td>\n",
       "      <td>1</td>\n",
       "      <td>0</td>\n",
       "    </tr>\n",
       "  </tbody>\n",
       "</table>\n",
       "<p>6310 rows × 17 columns</p>\n",
       "</div>"
      ],
      "text/plain": [
       "      Protein  TotalFat  Carbohydrate  Sodium  Cholesterol  Sugar  Calcium  \\\n",
       "1        0.85     81.11          0.06     714          215   0.06       24   \n",
       "2        0.85     81.11          0.06     827          219   0.06       24   \n",
       "3        0.28     99.48          0.00       2          256   0.00        4   \n",
       "4       21.40     28.74          2.34    1395           75   0.50      528   \n",
       "5       23.24     29.68          2.79     560           94   0.51      674   \n",
       "...       ...       ...           ...     ...          ...    ...      ...   \n",
       "7053    16.40      0.30          0.00      58           50   0.00       18   \n",
       "7054    18.50     25.10          0.00    4450           95   0.00       66   \n",
       "7055    20.54      0.84          5.41     667           41   0.00       10   \n",
       "7056    16.10      1.40          2.00      70           50   0.00       10   \n",
       "7057    19.80      0.50          0.00      68           50   0.00      118   \n",
       "\n",
       "      Iron  Potassium  VitaminC  VitaminE  VitaminD  HighSodium  HighCals  \\\n",
       "1     0.02         24       0.0      2.32       1.5           1         1   \n",
       "2     0.16         26       0.0      2.32       1.5           1         1   \n",
       "3     0.00          5       0.0      2.80       1.8           0         1   \n",
       "4     0.31        256       0.0      0.25       0.5           1         1   \n",
       "5     0.43        136       0.0      0.26       0.5           1         1   \n",
       "...    ...        ...       ...       ...       ...         ...       ...   \n",
       "7053  1.50        285       0.0      1.00       0.2           0         0   \n",
       "7054  1.40        520       0.0      2.38      25.2           1         1   \n",
       "7055  0.58        314       0.0      0.00       0.0           1         0   \n",
       "7056  3.50        382       0.0      5.00       0.0           0         0   \n",
       "7057  1.40        230       0.0      0.50       0.0           0         0   \n",
       "\n",
       "      HighSugar  HighProtein  HighFat  \n",
       "1             0            0        1  \n",
       "2             0            0        1  \n",
       "3             0            0        1  \n",
       "4             0            1        1  \n",
       "5             0            1        1  \n",
       "...         ...          ...      ...  \n",
       "7053          0            1        0  \n",
       "7054          0            1        1  \n",
       "7055          0            1        0  \n",
       "7056          0            1        0  \n",
       "7057          0            1        0  \n",
       "\n",
       "[6310 rows x 17 columns]"
      ]
     },
     "execution_count": 11,
     "metadata": {},
     "output_type": "execute_result"
    }
   ],
   "source": [
    "Y"
   ]
  },
  {
   "cell_type": "code",
   "execution_count": 13,
   "id": "a89f0f35-2d23-4e16-81a3-fc02d872f6ab",
   "metadata": {},
   "outputs": [
    {
     "data": {
      "text/html": [
       "<div>\n",
       "<style scoped>\n",
       "    .dataframe tbody tr th:only-of-type {\n",
       "        vertical-align: middle;\n",
       "    }\n",
       "\n",
       "    .dataframe tbody tr th {\n",
       "        vertical-align: top;\n",
       "    }\n",
       "\n",
       "    .dataframe thead th {\n",
       "        text-align: right;\n",
       "    }\n",
       "</style>\n",
       "<table border=\"1\" class=\"dataframe\">\n",
       "  <thead>\n",
       "    <tr style=\"text-align: right;\">\n",
       "      <th></th>\n",
       "      <th>Calories</th>\n",
       "    </tr>\n",
       "  </thead>\n",
       "  <tbody>\n",
       "    <tr>\n",
       "      <th>1</th>\n",
       "      <td>717</td>\n",
       "    </tr>\n",
       "    <tr>\n",
       "      <th>2</th>\n",
       "      <td>717</td>\n",
       "    </tr>\n",
       "    <tr>\n",
       "      <th>3</th>\n",
       "      <td>876</td>\n",
       "    </tr>\n",
       "    <tr>\n",
       "      <th>4</th>\n",
       "      <td>353</td>\n",
       "    </tr>\n",
       "    <tr>\n",
       "      <th>5</th>\n",
       "      <td>371</td>\n",
       "    </tr>\n",
       "    <tr>\n",
       "      <th>...</th>\n",
       "      <td>...</td>\n",
       "    </tr>\n",
       "    <tr>\n",
       "      <th>7053</th>\n",
       "      <td>73</td>\n",
       "    </tr>\n",
       "    <tr>\n",
       "      <th>7054</th>\n",
       "      <td>305</td>\n",
       "    </tr>\n",
       "    <tr>\n",
       "      <th>7055</th>\n",
       "      <td>111</td>\n",
       "    </tr>\n",
       "    <tr>\n",
       "      <th>7056</th>\n",
       "      <td>90</td>\n",
       "    </tr>\n",
       "    <tr>\n",
       "      <th>7057</th>\n",
       "      <td>89</td>\n",
       "    </tr>\n",
       "  </tbody>\n",
       "</table>\n",
       "<p>6310 rows × 1 columns</p>\n",
       "</div>"
      ],
      "text/plain": [
       "      Calories\n",
       "1          717\n",
       "2          717\n",
       "3          876\n",
       "4          353\n",
       "5          371\n",
       "...        ...\n",
       "7053        73\n",
       "7054       305\n",
       "7055       111\n",
       "7056        90\n",
       "7057        89\n",
       "\n",
       "[6310 rows x 1 columns]"
      ]
     },
     "execution_count": 13,
     "metadata": {},
     "output_type": "execute_result"
    }
   ],
   "source": [
    "X = usda[['Calories']]\n",
    "X"
   ]
  },
  {
   "cell_type": "code",
   "execution_count": 19,
   "id": "ecd47b96-db44-42e5-9aae-10c51f3131e2",
   "metadata": {},
   "outputs": [
    {
     "data": {
      "text/plain": [
       "(6310, 17)"
      ]
     },
     "execution_count": 19,
     "metadata": {},
     "output_type": "execute_result"
    }
   ],
   "source": [
    "Y.to_numpy().shape"
   ]
  },
  {
   "cell_type": "code",
   "execution_count": 15,
   "id": "b38be6c5-4049-4118-85d3-e6f60bdf2bb4",
   "metadata": {},
   "outputs": [
    {
     "data": {
      "text/plain": [
       "(6310, 1)"
      ]
     },
     "execution_count": 15,
     "metadata": {},
     "output_type": "execute_result"
    }
   ],
   "source": [
    "X.to_numpy().shape"
   ]
  },
  {
   "cell_type": "code",
   "execution_count": 4,
   "id": "e5105bbd-2a96-4819-a479-aa7d13e98309",
   "metadata": {},
   "outputs": [],
   "source": [
    "df = pd.DataFrame({\n",
    "        \"x1\": [1, 2, 3],\n",
    "        \"x2\": [4, 5, 6],\n",
    "        \"y\": [\"a\", \"b\", \"c\"]  # Invalid target (strings instead of numbers)\n",
    "    })"
   ]
  },
  {
   "cell_type": "code",
   "execution_count": 5,
   "id": "6dacf08a-d82d-4008-9393-aa0a14182eff",
   "metadata": {},
   "outputs": [
    {
     "data": {
      "text/html": [
       "<div>\n",
       "<style scoped>\n",
       "    .dataframe tbody tr th:only-of-type {\n",
       "        vertical-align: middle;\n",
       "    }\n",
       "\n",
       "    .dataframe tbody tr th {\n",
       "        vertical-align: top;\n",
       "    }\n",
       "\n",
       "    .dataframe thead th {\n",
       "        text-align: right;\n",
       "    }\n",
       "</style>\n",
       "<table border=\"1\" class=\"dataframe\">\n",
       "  <thead>\n",
       "    <tr style=\"text-align: right;\">\n",
       "      <th></th>\n",
       "      <th>x1</th>\n",
       "      <th>x2</th>\n",
       "      <th>y</th>\n",
       "    </tr>\n",
       "  </thead>\n",
       "  <tbody>\n",
       "    <tr>\n",
       "      <th>0</th>\n",
       "      <td>1</td>\n",
       "      <td>4</td>\n",
       "      <td>a</td>\n",
       "    </tr>\n",
       "    <tr>\n",
       "      <th>1</th>\n",
       "      <td>2</td>\n",
       "      <td>5</td>\n",
       "      <td>b</td>\n",
       "    </tr>\n",
       "    <tr>\n",
       "      <th>2</th>\n",
       "      <td>3</td>\n",
       "      <td>6</td>\n",
       "      <td>c</td>\n",
       "    </tr>\n",
       "  </tbody>\n",
       "</table>\n",
       "</div>"
      ],
      "text/plain": [
       "   x1  x2  y\n",
       "0   1   4  a\n",
       "1   2   5  b\n",
       "2   3   6  c"
      ]
     },
     "execution_count": 5,
     "metadata": {},
     "output_type": "execute_result"
    }
   ],
   "source": [
    "df"
   ]
  },
  {
   "cell_type": "code",
   "execution_count": 22,
   "id": "035a47e8-bac7-48c5-a5f9-ae4ca73e1e52",
   "metadata": {},
   "outputs": [
    {
     "ename": "ValueError",
     "evalue": "could not convert string to float: 'a'",
     "output_type": "error",
     "traceback": [
      "\u001b[31m---------------------------------------------------------------------------\u001b[39m",
      "\u001b[31mValueError\u001b[39m                                Traceback (most recent call last)",
      "\u001b[36mCell\u001b[39m\u001b[36m \u001b[39m\u001b[32mIn[22]\u001b[39m\u001b[32m, line 1\u001b[39m\n\u001b[32m----> \u001b[39m\u001b[32m1\u001b[39m y = \u001b[43mdf\u001b[49m\u001b[43m[\u001b[49m\u001b[43m[\u001b[49m\u001b[33;43m\"\u001b[39;49m\u001b[33;43my\u001b[39;49m\u001b[33;43m\"\u001b[39;49m\u001b[43m]\u001b[49m\u001b[43m]\u001b[49m\u001b[43m.\u001b[49m\u001b[43mto_numpy\u001b[49m\u001b[43m(\u001b[49m\u001b[43mnp\u001b[49m\u001b[43m.\u001b[49m\u001b[43mfloat64\u001b[49m\u001b[43m)\u001b[49m\n",
      "\u001b[36mFile \u001b[39m\u001b[32m~/Desktop/MachineLearning/MLR/venv/lib/python3.12/site-packages/pandas/core/frame.py:1993\u001b[39m, in \u001b[36mDataFrame.to_numpy\u001b[39m\u001b[34m(self, dtype, copy, na_value)\u001b[39m\n\u001b[32m   1991\u001b[39m \u001b[38;5;28;01mif\u001b[39;00m dtype \u001b[38;5;129;01mis\u001b[39;00m \u001b[38;5;129;01mnot\u001b[39;00m \u001b[38;5;28;01mNone\u001b[39;00m:\n\u001b[32m   1992\u001b[39m     dtype = np.dtype(dtype)\n\u001b[32m-> \u001b[39m\u001b[32m1993\u001b[39m result = \u001b[38;5;28;43mself\u001b[39;49m\u001b[43m.\u001b[49m\u001b[43m_mgr\u001b[49m\u001b[43m.\u001b[49m\u001b[43mas_array\u001b[49m\u001b[43m(\u001b[49m\u001b[43mdtype\u001b[49m\u001b[43m=\u001b[49m\u001b[43mdtype\u001b[49m\u001b[43m,\u001b[49m\u001b[43m \u001b[49m\u001b[43mcopy\u001b[49m\u001b[43m=\u001b[49m\u001b[43mcopy\u001b[49m\u001b[43m,\u001b[49m\u001b[43m \u001b[49m\u001b[43mna_value\u001b[49m\u001b[43m=\u001b[49m\u001b[43mna_value\u001b[49m\u001b[43m)\u001b[49m\n\u001b[32m   1994\u001b[39m \u001b[38;5;28;01mif\u001b[39;00m result.dtype \u001b[38;5;129;01mis\u001b[39;00m \u001b[38;5;129;01mnot\u001b[39;00m dtype:\n\u001b[32m   1995\u001b[39m     result = np.asarray(result, dtype=dtype)\n",
      "\u001b[36mFile \u001b[39m\u001b[32m~/Desktop/MachineLearning/MLR/venv/lib/python3.12/site-packages/pandas/core/internals/managers.py:1686\u001b[39m, in \u001b[36mBlockManager.as_array\u001b[39m\u001b[34m(self, dtype, copy, na_value)\u001b[39m\n\u001b[32m   1680\u001b[39m     arr = blk.values.to_numpy(  \u001b[38;5;66;03m# type: ignore[union-attr]\u001b[39;00m\n\u001b[32m   1681\u001b[39m         dtype=dtype,\n\u001b[32m   1682\u001b[39m         na_value=na_value,\n\u001b[32m   1683\u001b[39m         copy=copy,\n\u001b[32m   1684\u001b[39m     ).reshape(blk.shape)\n\u001b[32m   1685\u001b[39m \u001b[38;5;28;01melif\u001b[39;00m \u001b[38;5;129;01mnot\u001b[39;00m copy:\n\u001b[32m-> \u001b[39m\u001b[32m1686\u001b[39m     arr = \u001b[43mnp\u001b[49m\u001b[43m.\u001b[49m\u001b[43masarray\u001b[49m\u001b[43m(\u001b[49m\u001b[43mblk\u001b[49m\u001b[43m.\u001b[49m\u001b[43mvalues\u001b[49m\u001b[43m,\u001b[49m\u001b[43m \u001b[49m\u001b[43mdtype\u001b[49m\u001b[43m=\u001b[49m\u001b[43mdtype\u001b[49m\u001b[43m)\u001b[49m\n\u001b[32m   1687\u001b[39m \u001b[38;5;28;01melse\u001b[39;00m:\n\u001b[32m   1688\u001b[39m     arr = np.array(blk.values, dtype=dtype, copy=copy)\n",
      "\u001b[31mValueError\u001b[39m: could not convert string to float: 'a'"
     ]
    }
   ],
   "source": [
    "y = df[[\"y\"]].to_numpy()"
   ]
  },
  {
   "cell_type": "code",
   "execution_count": 15,
   "id": "b8cd6324-2745-40a2-8255-867fdbf95302",
   "metadata": {},
   "outputs": [
    {
     "data": {
      "text/plain": [
       "False"
      ]
     },
     "execution_count": 15,
     "metadata": {},
     "output_type": "execute_result"
    }
   ],
   "source": [
    "y.dtype == np.float64 "
   ]
  },
  {
   "cell_type": "code",
   "execution_count": 21,
   "id": "865ecc8d-bc62-422f-ae5f-3d2339aa4d48",
   "metadata": {},
   "outputs": [],
   "source": [
    "X = df[[\"x1\",\"x2\"]]"
   ]
  },
  {
   "cell_type": "code",
   "execution_count": 23,
   "id": "a669f13a-2f9d-4089-8236-228a04d82e63",
   "metadata": {},
   "outputs": [
    {
     "ename": "AttributeError",
     "evalue": "'DataFrame' object has no attribute 'isnumeric'",
     "output_type": "error",
     "traceback": [
      "\u001b[31m---------------------------------------------------------------------------\u001b[39m",
      "\u001b[31mAttributeError\u001b[39m                            Traceback (most recent call last)",
      "\u001b[32m/var/folders/w7/zm3167yj7xj54mbqq4gdyxwm0000gn/T/ipykernel_32115/908540740.py\u001b[39m in \u001b[36m?\u001b[39m\u001b[34m()\u001b[39m\n\u001b[32m----> \u001b[39m\u001b[32m1\u001b[39m df.isnumeric()\n",
      "\u001b[32m~/Desktop/MachineLearning/MLR/venv/lib/python3.12/site-packages/pandas/core/generic.py\u001b[39m in \u001b[36m?\u001b[39m\u001b[34m(self, name)\u001b[39m\n\u001b[32m   6295\u001b[39m             \u001b[38;5;28;01mand\u001b[39;00m name \u001b[38;5;28;01mnot\u001b[39;00m \u001b[38;5;28;01min\u001b[39;00m self._accessors\n\u001b[32m   6296\u001b[39m             \u001b[38;5;28;01mand\u001b[39;00m self._info_axis._can_hold_identifiers_and_holds_name(name)\n\u001b[32m   6297\u001b[39m         ):\n\u001b[32m   6298\u001b[39m             \u001b[38;5;28;01mreturn\u001b[39;00m self[name]\n\u001b[32m-> \u001b[39m\u001b[32m6299\u001b[39m         \u001b[38;5;28;01mreturn\u001b[39;00m object.__getattribute__(self, name)\n",
      "\u001b[31mAttributeError\u001b[39m: 'DataFrame' object has no attribute 'isnumeric'"
     ]
    }
   ],
   "source": [
    "df.isnumeric()"
   ]
  },
  {
   "cell_type": "code",
   "execution_count": 19,
   "id": "ef1af48c-6eb9-47e4-bc0e-486407c90bcf",
   "metadata": {},
   "outputs": [
    {
     "data": {
      "text/plain": [
       "dtype('int64')"
      ]
     },
     "execution_count": 19,
     "metadata": {},
     "output_type": "execute_result"
    }
   ],
   "source": [
    "X.dtype"
   ]
  },
  {
   "cell_type": "code",
   "execution_count": 27,
   "id": "b0ce8987-6345-4a9c-bc97-5b02fe9b4a86",
   "metadata": {},
   "outputs": [],
   "source": [
    "X = np.matrix([[1  ,1,  2],\n",
    " [1 , 2 , 1],\n",
    " [1 , 3 , 0],\n",
    " [1  ,4 ,-1]])"
   ]
  },
  {
   "cell_type": "code",
   "execution_count": null,
   "id": "63540217-b738-4e2c-bc98-9cbbf9d2de10",
   "metadata": {},
   "outputs": [],
   "source": []
  },
  {
   "cell_type": "code",
   "execution_count": 31,
   "id": "3975a89f-4f4d-4212-8b67-098491bf240b",
   "metadata": {},
   "outputs": [],
   "source": [
    "Y = np.matrix(np.array([13,12,11,10]).reshape(4,1))"
   ]
  },
  {
   "cell_type": "code",
   "execution_count": 33,
   "id": "8c61ff2f-9f14-4135-a731-736fe2afade5",
   "metadata": {},
   "outputs": [
    {
     "data": {
      "text/plain": [
       "(matrix([[ 1,  1,  2],\n",
       "         [ 1,  2,  1],\n",
       "         [ 1,  3,  0],\n",
       "         [ 1,  4, -1]]),\n",
       " matrix([[13],\n",
       "         [12],\n",
       "         [11],\n",
       "         [10]]))"
      ]
     },
     "execution_count": 33,
     "metadata": {},
     "output_type": "execute_result"
    }
   ],
   "source": [
    "XT = X"
   ]
  },
  {
   "cell_type": "code",
   "execution_count": 46,
   "id": "1648cc9f-3664-40ab-9c4d-b71250a93f4f",
   "metadata": {},
   "outputs": [
    {
     "data": {
      "text/plain": [
       "matrix([[ 1,  1,  1,  1],\n",
       "        [ 1,  2,  3,  4],\n",
       "        [ 2,  1,  0, -1]])"
      ]
     },
     "execution_count": 46,
     "metadata": {},
     "output_type": "execute_result"
    }
   ],
   "source": [
    "XT = X.transpose()\n",
    "XT"
   ]
  },
  {
   "cell_type": "code",
   "execution_count": 52,
   "id": "13b00f82-90a6-4a15-82cd-c8e04603b1ee",
   "metadata": {},
   "outputs": [
    {
     "data": {
      "text/plain": [
       "matrix([[ 4, 10,  2],\n",
       "        [10, 30,  0],\n",
       "        [ 2,  0,  6]])"
      ]
     },
     "execution_count": 52,
     "metadata": {},
     "output_type": "execute_result"
    }
   ],
   "source": [
    "XTX = XT*X\n",
    "XTX"
   ]
  },
  {
   "cell_type": "code",
   "execution_count": 54,
   "id": "abe11930-1b4c-40dd-abe7-93babb8ab6ac",
   "metadata": {},
   "outputs": [
    {
     "data": {
      "text/plain": [
       "np.int64(2)"
      ]
     },
     "execution_count": 54,
     "metadata": {},
     "output_type": "execute_result"
    }
   ],
   "source": [
    "np.linalg.matrix_rank(X)"
   ]
  },
  {
   "cell_type": "code",
   "execution_count": 40,
   "id": "3a638ffe-d8c2-4baa-8493-51064c9d9c69",
   "metadata": {},
   "outputs": [
    {
     "ename": "ValueError",
     "evalue": "shapes (4,4) and (3,4) not aligned: 4 (dim 1) != 3 (dim 0)",
     "output_type": "error",
     "traceback": [
      "\u001b[31m---------------------------------------------------------------------------\u001b[39m",
      "\u001b[31mValueError\u001b[39m                                Traceback (most recent call last)",
      "\u001b[36mCell\u001b[39m\u001b[36m \u001b[39m\u001b[32mIn[40]\u001b[39m\u001b[32m, line 1\u001b[39m\n\u001b[32m----> \u001b[39m\u001b[32m1\u001b[39m \u001b[43minv\u001b[49m\u001b[43m*\u001b[49m\u001b[43mX\u001b[49m\u001b[43m.\u001b[49m\u001b[43mtranspose\u001b[49m\u001b[43m(\u001b[49m\u001b[43m)\u001b[49m*Yx\n",
      "\u001b[36mFile \u001b[39m\u001b[32m~/Desktop/MachineLearning/MLR/venv/lib/python3.12/site-packages/numpy/matrixlib/defmatrix.py:224\u001b[39m, in \u001b[36mmatrix.__mul__\u001b[39m\u001b[34m(self, other)\u001b[39m\n\u001b[32m    221\u001b[39m \u001b[38;5;28;01mdef\u001b[39;00m\u001b[38;5;250m \u001b[39m\u001b[34m__mul__\u001b[39m(\u001b[38;5;28mself\u001b[39m, other):\n\u001b[32m    222\u001b[39m     \u001b[38;5;28;01mif\u001b[39;00m \u001b[38;5;28misinstance\u001b[39m(other, (N.ndarray, \u001b[38;5;28mlist\u001b[39m, \u001b[38;5;28mtuple\u001b[39m)) :\n\u001b[32m    223\u001b[39m         \u001b[38;5;66;03m# This promotes 1-D vectors to row vectors\u001b[39;00m\n\u001b[32m--> \u001b[39m\u001b[32m224\u001b[39m         \u001b[38;5;28;01mreturn\u001b[39;00m \u001b[43mN\u001b[49m\u001b[43m.\u001b[49m\u001b[43mdot\u001b[49m\u001b[43m(\u001b[49m\u001b[38;5;28;43mself\u001b[39;49m\u001b[43m,\u001b[49m\u001b[43m \u001b[49m\u001b[43masmatrix\u001b[49m\u001b[43m(\u001b[49m\u001b[43mother\u001b[49m\u001b[43m)\u001b[49m\u001b[43m)\u001b[49m\n\u001b[32m    225\u001b[39m     \u001b[38;5;28;01mif\u001b[39;00m isscalar(other) \u001b[38;5;129;01mor\u001b[39;00m \u001b[38;5;129;01mnot\u001b[39;00m \u001b[38;5;28mhasattr\u001b[39m(other, \u001b[33m'\u001b[39m\u001b[33m__rmul__\u001b[39m\u001b[33m'\u001b[39m) :\n\u001b[32m    226\u001b[39m         \u001b[38;5;28;01mreturn\u001b[39;00m N.dot(\u001b[38;5;28mself\u001b[39m, other)\n",
      "\u001b[31mValueError\u001b[39m: shapes (4,4) and (3,4) not aligned: 4 (dim 1) != 3 (dim 0)"
     ]
    }
   ],
   "source": [
    "inv*X.transpose()*Y"
   ]
  },
  {
   "cell_type": "code",
   "execution_count": 49,
   "id": "1a577016-ec70-4a64-8f0e-1ce743f01dfd",
   "metadata": {},
   "outputs": [],
   "source": [
    "df = pd.DataFrame({\n",
    "        \"x1\": [1, 2, 3, 4],\n",
    "        \"x2\": [2, 1, 0, -1]\n",
    "    })\n",
    "y = 2 + 3 * df[\"x1\"] + 4 * df[\"x2\"]\n",
    "df[\"y\"] = y\n"
   ]
  },
  {
   "cell_type": "code",
   "execution_count": 50,
   "id": "3165755b-9675-4baa-a96c-4befcd81a2bb",
   "metadata": {},
   "outputs": [
    {
     "data": {
      "text/html": [
       "<div>\n",
       "<style scoped>\n",
       "    .dataframe tbody tr th:only-of-type {\n",
       "        vertical-align: middle;\n",
       "    }\n",
       "\n",
       "    .dataframe tbody tr th {\n",
       "        vertical-align: top;\n",
       "    }\n",
       "\n",
       "    .dataframe thead th {\n",
       "        text-align: right;\n",
       "    }\n",
       "</style>\n",
       "<table border=\"1\" class=\"dataframe\">\n",
       "  <thead>\n",
       "    <tr style=\"text-align: right;\">\n",
       "      <th></th>\n",
       "      <th>x1</th>\n",
       "      <th>x2</th>\n",
       "      <th>y</th>\n",
       "    </tr>\n",
       "  </thead>\n",
       "  <tbody>\n",
       "    <tr>\n",
       "      <th>0</th>\n",
       "      <td>1</td>\n",
       "      <td>2</td>\n",
       "      <td>13</td>\n",
       "    </tr>\n",
       "    <tr>\n",
       "      <th>1</th>\n",
       "      <td>2</td>\n",
       "      <td>1</td>\n",
       "      <td>12</td>\n",
       "    </tr>\n",
       "    <tr>\n",
       "      <th>2</th>\n",
       "      <td>3</td>\n",
       "      <td>0</td>\n",
       "      <td>11</td>\n",
       "    </tr>\n",
       "    <tr>\n",
       "      <th>3</th>\n",
       "      <td>4</td>\n",
       "      <td>-1</td>\n",
       "      <td>10</td>\n",
       "    </tr>\n",
       "  </tbody>\n",
       "</table>\n",
       "</div>"
      ],
      "text/plain": [
       "   x1  x2   y\n",
       "0   1   2  13\n",
       "1   2   1  12\n",
       "2   3   0  11\n",
       "3   4  -1  10"
      ]
     },
     "execution_count": 50,
     "metadata": {},
     "output_type": "execute_result"
    }
   ],
   "source": [
    "df"
   ]
  },
  {
   "cell_type": "code",
   "execution_count": null,
   "id": "e5ed1d3d-d815-4d11-bff9-5aed46b1b0aa",
   "metadata": {},
   "outputs": [],
   "source": []
  }
 ],
 "metadata": {
  "kernelspec": {
   "display_name": "Python 3 (ipykernel)",
   "language": "python",
   "name": "python3"
  },
  "language_info": {
   "codemirror_mode": {
    "name": "ipython",
    "version": 3
   },
   "file_extension": ".py",
   "mimetype": "text/x-python",
   "name": "python",
   "nbconvert_exporter": "python",
   "pygments_lexer": "ipython3",
   "version": "3.12.6"
  }
 },
 "nbformat": 4,
 "nbformat_minor": 5
}
